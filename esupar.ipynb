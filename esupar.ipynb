{
  "nbformat":4,
  "nbformat_minor":0,
  "metadata":{
    "colab":{ "name":"esupar on Google Colaboratory" },
    "kernelspec":{ "name":"python3" }
  },
  "cells":[
    {
      "cell_type":"markdown",
      "metadata":{ "colab_type":"text" },
      "source":[
        "# [esupar](https://github.com/KoichiYasuoka/esupar) on Google Colaboratory"
      ]
    },
    {
      "cell_type":"code",
      "metadata":{ "colab_type":"code" },
      "source":[
        "!pip install esupar\n",
        "import esupar\n",
        "nlp=esupar.load(\"ja\")\n",
        "doc=nlp(\"太郎は花子が読んでいる本を次郎に渡した\")\n",
        "import deplacy\n",
        "deplacy.render(doc,Japanese=True)\n",
        "deplacy.serve(doc,port=None)\n",
        "# import graphviz\n",
        "# graphviz.Source(deplacy.dot(doc))"
      ],
      "outputs":[
        {
          "output_type":"stream",
          "text":[
            "太郎 PROPN ═╗<════════╗ nsubj(主語)\n",
            "は   ADP   <╝         ║ case(格表示)\n",
            "花子 PROPN ═╗<══╗     ║ nsubj(主語)\n",
            "が   ADP   <╝   ║     ║ case(格表示)\n",
            "読ん VERB  ═╗═╗═╝<╗   ║ acl(連体修飾節)\n",
            "で   SCONJ <╝ ║   ║   ║ mark(標識)\n",
            "いる AUX   <══╝   ║   ║ aux(動詞補助成分)\n",
            "本   NOUN  ═╗═════╝<╗ ║ obj(目的語)\n",
            "を   ADP   <╝       ║ ║ case(格表示)\n",
            "次郎 PROPN ═╗<╗     ║ ║ obl(斜格補語)\n",
            "に   ADP   <╝ ║     ║ ║ case(格表示)\n",
            "渡し VERB  ═╗═╝═════╝═╝ root(親)\n",
            "た   AUX   <╝           aux(動詞補助成分)\n",
            "\n"
          ]
        },
        {
          "output_type":"display_data",
          "data":{
            "text/html":[
              "<iframe width=\"100%\" height=\"400\" src=\"https://koichiyasuoka.github.io/deplacy/deplacy/editor.html#1%09%E5%A4%AA%E9%83%8E%09_%09PROPN%09_%09_%0912%09nsubj%09_%09SpaceAfter%3DNo%0A2%09%E3%81%AF%09_%09ADP%09_%09_%091%09case%09_%09SpaceAfter%3DNo%0A3%09%E8%8A%B1%E5%AD%90%09_%09PROPN%09_%09_%095%09nsubj%09_%09SpaceAfter%3DNo%0A4%09%E3%81%8C%09_%09ADP%09_%09_%093%09case%09_%09SpaceAfter%3DNo%0A5%09%E8%AA%AD%E3%82%93%09_%09VERB%09_%09_%098%09acl%09_%09SpaceAfter%3DNo%0A6%09%E3%81%A7%09_%09SCONJ%09_%09_%095%09mark%09_%09SpaceAfter%3DNo%0A7%09%E3%81%84%E3%82%8B%09_%09AUX%09_%09_%095%09aux%09_%09SpaceAfter%3DNo%0A8%09%E6%9C%AC%09_%09NOUN%09_%09_%0912%09obj%09_%09SpaceAfter%3DNo%0A9%09%E3%82%92%09_%09ADP%09_%09_%098%09case%09_%09SpaceAfter%3DNo%0A10%09%E6%AC%A1%E9%83%8E%09_%09PROPN%09_%09_%0912%09obl%09_%09SpaceAfter%3DNo%0A11%09%E3%81%AB%09_%09ADP%09_%09_%0910%09case%09_%09SpaceAfter%3DNo%0A12%09%E6%B8%A1%E3%81%97%09_%09VERB%09_%09_%090%09root%09_%09SpaceAfter%3DNo%0A13%09%E3%81%9F%09_%09AUX%09_%09_%0912%09aux%09_%09_%0A%0A\" frameborder=\"0\" allowfullscreen></iframe>\n"
            ]
          }
        }
      ]
    }
  ]
}
